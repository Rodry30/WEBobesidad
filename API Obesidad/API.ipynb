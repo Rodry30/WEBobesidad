{
 "cells": [
  {
   "cell_type": "code",
   "execution_count": 1,
   "id": "81a1e809-6750-4b0a-99e6-2aa50212dba4",
   "metadata": {},
   "outputs": [
    {
     "name": "stdout",
     "output_type": "stream",
     "text": [
      "[3]\n"
     ]
    },
    {
     "name": "stderr",
     "output_type": "stream",
     "text": [
      "C:\\Users\\rodri\\anaconda3\\Lib\\site-packages\\sklearn\\base.py:493: UserWarning: X does not have valid feature names, but RandomForestClassifier was fitted with feature names\n",
      "  warnings.warn(\n"
     ]
    }
   ],
   "source": [
    "##Probar el modelo\n",
    "import joblib\n",
    "modelo = joblib.load('modelo_obesidad.pkl')\n",
    "\n",
    "datos = [[1,21,1.62,64,1,0,2,3,1,0,2,0,0,1,0,3]]\n",
    "resultado = modelo.predict(datos)\n",
    "print(resultado)"
   ]
  },
  {
   "cell_type": "code",
   "execution_count": null,
   "id": "b68641b6-e5d4-4b3b-9228-5d32c9f7106c",
   "metadata": {},
   "outputs": [
    {
     "name": "stderr",
     "output_type": "stream",
     "text": [
      "WARNING: This is a development server. Do not use it in a production deployment. Use a production WSGI server instead.\n",
      " * Running on http://localhost:9280\n",
      "Press CTRL+C to quit\n",
      "C:\\Users\\rodri\\anaconda3\\Lib\\site-packages\\sklearn\\base.py:493: UserWarning: X does not have valid feature names, but RandomForestClassifier was fitted with feature names\n",
      "  warnings.warn(\n",
      "127.0.0.1 - - [27/May/2025 15:00:43] \"POST /predict HTTP/1.1\" 200 -\n"
     ]
    }
   ],
   "source": [
    "#CreaciÓn API\n",
    "from flask import Flask, request, jsonify\n",
    "import joblib\n",
    "import numpy as np\n",
    "\n",
    "app = Flask(__name__)\n",
    "\n",
    "# Cargar correctamente el modelo\n",
    "model = joblib.load('modelo_obesidad.pkl')\n",
    "\n",
    "@app.route('/predict', methods=['POST'])\n",
    "def predict():\n",
    "    try:\n",
    "        data = request.get_json()\n",
    "        features = data['features']\n",
    "\n",
    "        # Convertir a array para predicción\n",
    "        features = np.array(features).reshape(1, -1)\n",
    "        prediction = model.predict(features)\n",
    "\n",
    "        return jsonify({'prediction': prediction.tolist()})\n",
    "    except Exception as e:\n",
    "        return jsonify({'error': str(e)}), 500\n",
    "\n",
    "if __name__ == '__main__':\n",
    "    from werkzeug.serving import run_simple\n",
    "    run_simple('localhost', 9280, app, use_reloader=False)\n",
    "\n",
    "\n"
   ]
  },
  {
   "cell_type": "code",
   "execution_count": null,
   "id": "3a0b32aa-170d-4760-bac4-f45e414809f2",
   "metadata": {},
   "outputs": [],
   "source": [
    "import joblib \n",
    "model = joblib.load('modelo_obesidad.pkl')\n",
    "print(type(model))"
   ]
  },
  {
   "cell_type": "code",
   "execution_count": null,
   "id": "d6c15adf-4cc2-466d-8f60-9bde80d2510d",
   "metadata": {},
   "outputs": [],
   "source": []
  }
 ],
 "metadata": {
  "kernelspec": {
   "display_name": "Python [conda env:base] *",
   "language": "python",
   "name": "conda-base-py"
  },
  "language_info": {
   "codemirror_mode": {
    "name": "ipython",
    "version": 3
   },
   "file_extension": ".py",
   "mimetype": "text/x-python",
   "name": "python",
   "nbconvert_exporter": "python",
   "pygments_lexer": "ipython3",
   "version": "3.12.7"
  }
 },
 "nbformat": 4,
 "nbformat_minor": 5
}
